{
 "cells": [
  {
   "cell_type": "code",
   "execution_count": 2,
   "metadata": {},
   "outputs": [],
   "source": [
    "import pandas as pd\n",
    "import numpy as np\n",
    "import matplotlib as mpl\n",
    "import matplotlib.pyplot as plt # 데이터 시각화\n",
    "import seaborn as sns\n",
    "import missingno as msno\n",
    "import os\n",
    "import re\n",
    "import multiprocessing # 여러 개의 일꾼 (cpu)들에게 작업을 분산시키는 역할\n",
    "from multiprocessing import Pool \n",
    "from functools import partial # 함수가 받는 인자들 중 몇개를 고정 시켜서 새롭게 파생된 함수를 형성하는 역할\n",
    "from data_loader_v2 import data_loader_v2\n",
    "\n",
    "%matplotlib inline\n",
    "plt.rcParams[\"figure.figsize\"] = (13,10)"
   ]
  },
  {
   "cell_type": "code",
   "execution_count": 68,
   "metadata": {},
   "outputs": [],
   "source": [
    "from sklearn import metrics\n",
    "from sklearn.model_selection import train_test_split\n",
    "from sklearn.model_selection import KFold\n",
    "from sklearn.model_selection import cross_val_score\n",
    "from sklearn.preprocessing import LabelEncoder\n",
    "from sklearn.preprocessing import RobustScaler\n",
    "from sklearn.preprocessing import StandardScaler\n",
    "from sklearn.preprocessing import LabelEncoder\n",
    "from sklearn.metrics import accuracy_score\n",
    "from sklearn import metrics\n",
    "from sklearn.ensemble import RandomForestClassifier\n",
    "from sklearn.cluster import KMeans\n",
    "from sklearn.decomposition import PCA\n",
    "from keras.wrappers.scikit_learn import KerasClassifier\n",
    "from keras.models import Sequential\n",
    "from keras.layers import LSTM\n",
    "from keras.layers import Dense, Embedding\n",
    "from keras.layers import Flatten, Dropout\n",
    "from keras.layers import Conv1D, MaxPooling1D\n",
    "from keras.callbacks import EarlyStopping, ModelCheckpoint, CSVLogger\n",
    "from keras.utils import np_utils\n",
    "import keras\n",
    "from imblearn.over_sampling import SMOTE\n",
    "import lightgbm as lgb\n",
    "import joblib\n",
    "seed = 777"
   ]
  },
  {
   "cell_type": "code",
   "execution_count": 1,
   "metadata": {},
   "outputs": [],
   "source": [
    "## 실제 데이터 로드\n",
    "realData1 = \"Train/30.csv\"\n",
    "realData2 = \"Test/1154.csv\"\n",
    "realData3 = \"Test/1168.csv\"\n",
    "realData4 = \"additinal_data/additinal_data1\"\n",
    "realData5 = \"additinal_data/additinal_data2\""
   ]
  },
  {
   "cell_type": "code",
   "execution_count": 6,
   "metadata": {},
   "outputs": [],
   "source": [
    "## 데이터 Path\n",
    "train_folder = 'train/'\n",
    "test_folder = 'test/'\n",
    "train_label_path = 'train_label.csv'\n",
    "train_list = os.listdir(train_folder)\n",
    "test_list = os.listdir(test_folder)\n",
    "train_label = pd.read_csv(train_label_path, index_col=0)"
   ]
  },
  {
   "cell_type": "code",
   "execution_count": 50,
   "metadata": {},
   "outputs": [
    {
     "data": {
      "image/png": "[encoded data removed]",
      "text/plain": [
       "<Figure size 936x720 with 1 Axes>"
      ]
     },
     "metadata": {
      "needs_background": "light"
     },
     "output_type": "display_data"
    },
    {
     "name": "stdout",
     "output_type": "stream",
     "text": [
      "총 데이터의 개수 :  828\n"
     ]
    }
   ],
   "source": [
    "# Dacon 토론에서 공개된 Label당 Imbalance Data 분포도\n",
    "train_l = pd.read_csv(\"train_label.csv\")\n",
    "plt.hist(train_l['label'], bins=len(train_l['label'].unique()))\n",
    "plt.xlim(0,200)\n",
    "plt.ylim(bottom=0)\n",
    "plt.xlabel('label')\n",
    "plt.ylabel('# of label')\n",
    "plt.show()\n",
    "print(\"총 데이터의 개수 : \",len(train_l['label']))\n",
    "list = []\n",
    "for i in range(len(train_l['label'].unique())):\n",
    "    list.append(len(train_l[:][train_l['label']==i]))"
   ]
  },
  {
   "cell_type": "markdown",
   "metadata": {},
   "source": [
    "# Data Preprocessing "
   ]
  },
  {
   "cell_type": "code",
   "execution_count": 7,
   "metadata": {},
   "outputs": [],
   "source": [
    "# 모든 csv 파일의 상태_B로 변화는 시점이 같다라고 가정, 10초\n",
    "# 하지만, 개별 csv파일의 상태_B로 변화는 시점은 상이할 수 있음, 60개의 row만 보기, 즉 10~60초의 시간만 학습\n",
    "# Dacon baseline으로 지정해주는 데이터 로드 함수\n",
    "def data_loader_all_v2(func, files, folder='', train_label=None, event_time=10, nrows=60):   \n",
    "    func_fixed = partial(func, folder=folder, train_label=train_label, event_time=event_time, nrows=nrows)     \n",
    "    if __name__ == '__main__':\n",
    "        pool = Pool(processes=multiprocessing.cpu_count()) \n",
    "        df_list = list(pool.imap(func_fixed, files)) \n",
    "        pool.close()\n",
    "        pool.join()        \n",
    "    combined_df = pd.concat(df_list)    \n",
    "    return combined_df"
   ]
  },
  {
   "cell_type": "code",
   "execution_count": 8,
   "metadata": {},
   "outputs": [],
   "source": [
    "# Dacon에서 제공해주는 함수를 이용한 데이터 Merge와 csv 저장 및 불러오기\n",
    "#train = data_loader_all_v2(data_loader_v2, train_list, folder=train_folder, train_label=train_label, event_time=10, nrows=60)\n",
    "#train.to_csv(\"base_train.csv\")\n",
    "train = pd.read_csv(\"base_train.csv\", index_col='Unnamed: 0')\n",
    "\n",
    "#test = data_loader_all_v2(data_loader_v2, test_list, folder=test_folder, train_label=None, event_time=10, nrows=60)\n",
    "#test.to_csv(\"base_test.csv\")\n",
    "test = pd.read_csv(\"base_test.csv\", index_col='Unnamed: 0')"
   ]
  },
  {
   "cell_type": "code",
   "execution_count": 51,
   "metadata": {},
   "outputs": [],
   "source": [
    "# Data에 대해 y = label 과 trainData 분리\n",
    "train_c = train.copy()\n",
    "train_label = train_c['label']\n",
    "train_data = train_c.drop(['label'], axis=1)"
   ]
  },
  {
   "cell_type": "code",
   "execution_count": 11,
   "metadata": {
    "scrolled": true
   },
   "outputs": [
    {
     "name": "stdout",
     "output_type": "stream",
     "text": [
      "         V0000     V0001     V0002     V0003     V0004       V0005  \\\n",
      "666  30.460902  8.696729  8.678150  8.707048  8.743941  187.271493   \n",
      "675  30.467751  8.634908  8.721089  8.677828  8.720551  208.165981   \n",
      "547  30.473759  8.729892  8.689503  8.666899  8.672289  253.143294   \n",
      "248  30.484401  8.759098  8.716958  8.730716  8.687358  178.700974   \n",
      "389  30.469542  8.785799  8.717737  8.735726  8.717749  176.454884   \n",
      "..         ...       ...       ...       ...       ...         ...   \n",
      "811  23.635265  4.311902  4.222889  3.817453  3.780163  -23.022390   \n",
      "317  30.477458  8.750068  8.722127  8.723330  8.707557  196.777031   \n",
      "589  30.470703  8.831234  8.686700  8.706548  8.714215  187.066875   \n",
      "819  30.446290  8.736160  8.680907  8.678161  8.692547  279.684095   \n",
      "525  30.476703  8.689716  8.664188  8.677084  8.653015  239.878768   \n",
      "\n",
      "          V0006         V0007  V0008       V0009  ...  V5111  V5112  V5113  \\\n",
      "666  220.187777 -2.609061e-19    0.0   -0.000446  ...    1.0    1.0    1.0   \n",
      "675  261.808273 -2.894820e-19    0.0   -0.000780  ...    1.0    1.0    1.0   \n",
      "547  227.703277  3.146973e-19    0.0    0.001592  ...    1.0    1.0    1.0   \n",
      "248  184.457616  4.747937e-19    0.0    0.000507  ...    1.0    1.0    1.0   \n",
      "389  113.840214 -2.867486e-19    0.0   -0.000513  ...    1.0    1.0    1.0   \n",
      "..          ...           ...    ...         ...  ...    ...    ...    ...   \n",
      "811   27.120105  2.651098e+02    0.0  261.567807  ...    1.0    1.0    1.0   \n",
      "317  196.206859  7.336516e-19    0.0    0.000211  ...    1.0    1.0    1.0   \n",
      "589  188.170848  4.909930e-20    0.0   -0.000879  ...    1.0    1.0    1.0   \n",
      "819  263.235703 -4.892852e-19    0.0    0.002271  ...    1.0    1.0    1.0   \n",
      "525  265.317991  6.309064e-19    0.0    0.002161  ...    1.0    1.0    1.0   \n",
      "\n",
      "     V5114  V5115  V5116  V5117      V5118     V5119  V5120  \n",
      "666    1.0   60.0    0.0    0.0  -0.000003  85.40000    0.0  \n",
      "675    1.0   60.0    0.0    0.0  -0.000003  85.40000    0.0  \n",
      "547    1.0   60.0    0.0    0.0  -0.000012  85.40000    0.0  \n",
      "248    1.0   60.0    0.0    0.0   0.000008  85.40000    0.0  \n",
      "389    1.0   60.0    0.0    0.0   0.000020  85.40000    0.0  \n",
      "..     ...    ...    ...    ...        ...       ...    ...  \n",
      "811    1.0    0.1    0.0    0.0  70.678238   8.82437    0.0  \n",
      "317    1.0   60.0    0.0    0.0  -0.000009  85.40000    0.0  \n",
      "589    1.0   60.0    0.0    0.0  -0.000002  85.40000    0.0  \n",
      "819    1.0   60.0    0.0    0.0  -0.000004  85.40000    0.0  \n",
      "525    1.0   60.0    0.0    0.0  -0.000015  85.40000    0.0  \n",
      "\n",
      "[33120 rows x 5121 columns]          V0000     V0001     V0002     V0003     V0004       V0005  \\\n",
      "290  30.466830  8.544912  8.474796  8.495731  8.463197  268.175079   \n",
      "588  30.475909  8.791712  8.705517  8.661790  8.690852  240.634524   \n",
      "359  30.489189  8.626852  8.545856  8.695577  8.689374  213.208885   \n",
      "204  30.480330  8.740064  8.721607  8.703408  8.719145  155.095346   \n",
      "107  30.485783  8.664525  8.710334  8.707884  8.714969  197.504720   \n",
      "..         ...       ...       ...       ...       ...         ...   \n",
      "60   30.456247  8.836413  8.716750  8.674596  8.705695  173.506788   \n",
      "319  30.465355  8.790987  8.689226  8.718441  8.735292  165.127928   \n",
      "220  30.483190  8.836461  8.704230  8.730588  8.711972  190.621019   \n",
      "707  30.473985  8.622354  8.683352  8.689707  8.698356  178.334101   \n",
      "302  30.488181  8.581986  8.478567  8.476242  8.520133  261.774746   \n",
      "\n",
      "          V0006         V0007      V0008       V0009  ...  V5111  V5112  \\\n",
      "290  276.259286  2.613470e+02  261.00864  261.962360  ...    1.0    1.0   \n",
      "588  197.651943  1.634715e-20    0.00000    0.000274  ...    1.0    1.0   \n",
      "359  220.488462  5.043719e-19    0.00000    0.000115  ...    1.0    1.0   \n",
      "204  168.565382  4.265669e-19    0.00000   -0.000768  ...    1.0    1.0   \n",
      "107  160.205515 -4.186459e-20    0.00000   -0.002249  ...    1.0    1.0   \n",
      "..          ...           ...        ...         ...  ...    ...    ...   \n",
      "60   200.769245  4.099004e-19    0.00000    0.001423  ...    1.0    1.0   \n",
      "319  176.782001  1.694838e-19    0.00000    0.002014  ...    1.0    1.0   \n",
      "220  211.138741  3.666355e-19    0.00000    0.000201  ...    1.0    1.0   \n",
      "707  151.790755 -4.695022e-19    0.00000    0.000922  ...    1.0    1.0   \n",
      "302  279.461111  4.948041e-19    0.00000  264.649532  ...    1.0    1.0   \n",
      "\n",
      "     V5113  V5114    V5115  V5116  V5117         V5118     V5119  V5120  \n",
      "290    1.0    1.0  60.0000    0.0    0.0  5.866493e-06  85.40000    0.0  \n",
      "588    1.0    1.0  60.0000    0.0    0.0  7.471110e-06  85.40000    0.0  \n",
      "359    1.0    1.0  60.0000    0.0    0.0 -7.269697e-07  85.40000    0.0  \n",
      "204    1.0    1.0  60.0000    0.0    0.0 -8.129589e-06  85.40000    0.0  \n",
      "107    1.0    1.0  60.0000    0.0    0.0 -8.963084e-06  85.40000    0.0  \n",
      "..     ...    ...      ...    ...    ...           ...       ...    ...  \n",
      "60     1.0    1.0  60.0000    0.0    0.0  9.646324e-06  85.40000    0.0  \n",
      "319    1.0    1.0  60.0000    0.0    0.0 -2.462708e-05  85.40000    0.0  \n",
      "220    1.0    1.0  60.0000    0.0    0.0 -1.072581e-05  85.40000    0.0  \n",
      "707    1.0    1.0  60.0000    0.0    0.0 -2.109555e-06  85.40000    0.0  \n",
      "302    1.0    1.0  59.8849    0.0    0.0  1.083335e-05   6.12653    0.0  \n",
      "\n",
      "[8280 rows x 5121 columns] 666     74\n",
      "675    112\n",
      "547    155\n",
      "248    195\n",
      "389    148\n",
      "      ... \n",
      "811     53\n",
      "317    114\n",
      "589    179\n",
      "819     38\n",
      "525     38\n",
      "Name: label, Length: 33120, dtype: int64 290      0\n",
      "588    156\n",
      "359     25\n",
      "204    169\n",
      "107    111\n",
      "      ... \n",
      "60     172\n",
      "319    122\n",
      "220    119\n",
      "707     68\n",
      "302     49\n",
      "Name: label, Length: 8280, dtype: int64\n",
      "(33120, 5121) (8280, 5121) (33120,) (8280,)\n"
     ]
    }
   ],
   "source": [
    "# Data에 대해 train과 검증 데이터 분리\n",
    "X_train, X_val, Y_train, Y_val = train_test_split(train_data, train_label, test_size=0.2, random_state=seed)\n",
    "print(X_train,X_val,Y_train,Y_val)\n",
    "print(X_train.shape,X_val.shape,Y_train.shape,Y_val.shape)"
   ]
  },
  {
   "cell_type": "code",
   "execution_count": 84,
   "metadata": {},
   "outputs": [
    {
     "name": "stdout",
     "output_type": "stream",
     "text": [
      "          V0000      V0001       V0002       V0003       V0004     V0005  \\\n",
      "666   -0.686373  -0.258664   -0.966421    0.070733    1.182847 -0.324421   \n",
      "675   -0.259886  -0.833324    0.597189   -0.600461    0.460626  0.558946   \n",
      "547    0.114254   0.049602   -0.553022   -0.851495   -1.029616  2.460476   \n",
      "248    0.776996   0.321080    0.446751    0.614380   -0.564326 -0.686762   \n",
      "389   -0.148344   0.569288    0.475110    0.729478    0.374098 -0.781721   \n",
      "..          ...        ...         ...         ...         ...       ...   \n",
      "811 -425.761128 -41.017939 -163.205259 -112.244763 -152.089454 -9.215128   \n",
      "317    0.344627   0.237146    0.634973    0.444730    0.059377  0.077449   \n",
      "589   -0.076033   0.991626   -0.655079    0.059241    0.264972 -0.333072   \n",
      "819   -1.596356   0.107864   -0.866058   -0.592821   -0.404099  3.582555   \n",
      "525    0.297606  -0.323860   -1.474858   -0.617546   -1.624753  1.899684   \n",
      "\n",
      "        V0006         V0007  V0008          V0009  ...  V5111  V5112  V5113  \\\n",
      "666  0.605048 -4.870297e-01    0.0      -0.265141  ...    0.0    0.0    0.0   \n",
      "675  1.598190 -5.368594e-01    0.0      -0.438751  ...    0.0    0.0    0.0   \n",
      "547  0.784382  5.166891e-01    0.0       0.792162  ...    0.0    0.0    0.0   \n",
      "248 -0.247541  7.958602e-01    0.0       0.229336  ...    0.0    0.0    0.0   \n",
      "389 -1.932604 -5.320931e-01    0.0      -0.299854  ...    0.0    0.0    0.0   \n",
      "..        ...           ...    ...            ...  ...    ...    ...    ...   \n",
      "811 -4.001907  4.622899e+20    0.0  135709.273844  ...    0.0    0.0    0.0   \n",
      "317  0.032818  1.247248e+00    0.0       0.075394  ...    0.0    0.0    0.0   \n",
      "589 -0.158936  5.354783e-02    0.0      -0.490191  ...    0.0    0.0    0.0   \n",
      "819  1.632252 -8.852698e-01    0.0       1.144353  ...    0.0    0.0    0.0   \n",
      "525  1.681939  1.068085e+00    0.0       1.087165  ...    0.0    0.0    0.0   \n",
      "\n",
      "     V5114  V5115  V5116  V5117         V5118     V5119  V5120  \n",
      "666    0.0    0.0    0.0    0.0 -1.737990e-01   0.00000    0.0  \n",
      "675    0.0    0.0    0.0    0.0 -1.935165e-01   0.00000    0.0  \n",
      "547    0.0    0.0    0.0    0.0 -6.897701e-01   0.00000    0.0  \n",
      "248    0.0    0.0    0.0    0.0  4.253374e-01   0.00000    0.0  \n",
      "389    0.0    0.0    0.0    0.0  1.082608e+00   0.00000    0.0  \n",
      "..     ...    ...    ...    ...           ...       ...    ...  \n",
      "811    0.0  -59.9    0.0    0.0  4.002746e+06 -76.57563    0.0  \n",
      "317    0.0    0.0    0.0    0.0 -5.467140e-01   0.00000    0.0  \n",
      "589    0.0    0.0    0.0    0.0 -1.514971e-01   0.00000    0.0  \n",
      "819    0.0    0.0    0.0    0.0 -2.663053e-01   0.00000    0.0  \n",
      "525    0.0    0.0    0.0    0.0 -8.478886e-01   0.00000    0.0  \n",
      "\n",
      "[33120 rows x 5121 columns]         V0000     V0001     V0002     V0003     V0004     V0005     V0006  \\\n",
      "290 -0.317247 -1.669886 -8.371611 -4.783286 -7.486005  3.095983  1.943019   \n",
      "588  0.248161  0.624247  0.030134 -0.968857 -0.456415  1.931636  0.067301   \n",
      "359  1.075180 -0.908210 -5.783947 -0.192755 -0.502065  0.772148  0.612223   \n",
      "204  0.523483  0.144158  0.616060 -0.012872  0.417194 -1.684749 -0.626759   \n",
      "107  0.863072 -0.558023  0.205539  0.089941  0.288273  0.108214 -0.826241   \n",
      "..        ...       ...       ...       ...       ...       ...       ...   \n",
      "60  -0.976279  1.039765  0.439176 -0.674692  0.001896 -0.906359  0.141685   \n",
      "319 -0.409113  0.617512 -0.563117  0.332442  0.915793 -1.260597 -0.430695   \n",
      "220  0.701609  1.040217 -0.016715  0.611442  0.195729 -0.182812  0.389121   \n",
      "707  0.128385 -0.950026 -0.777023 -0.327587 -0.224735 -0.702272 -1.027033   \n",
      "302  1.012438 -1.325266 -8.234265 -5.230949 -5.727907  2.825392  2.019420   \n",
      "\n",
      "            V0007      V0008          V0009  ...  V5111  V5112  V5113  V5114  \\\n",
      "290  4.557286e+20  261.00864  135913.979917  ...    0.0    0.0    0.0    0.0   \n",
      "588 -3.564319e-03    0.00000       0.108053  ...    0.0    0.0    0.0    0.0   \n",
      "359  8.474376e-01    0.00000       0.026038  ...    0.0    0.0    0.0    0.0   \n",
      "204  7.117637e-01    0.00000      -0.432536  ...    0.0    0.0    0.0    0.0   \n",
      "107 -1.050721e-01    0.00000      -1.200933  ...    0.0    0.0    0.0    0.0   \n",
      "..            ...        ...            ...  ...    ...    ...    ...    ...   \n",
      "60   6.827012e-01    0.00000       0.704331  ...    0.0    0.0    0.0    0.0   \n",
      "319  2.634705e-01    0.00000       1.010966  ...    0.0    0.0    0.0    0.0   \n",
      "220  6.072573e-01    0.00000       0.070294  ...    0.0    0.0    0.0    0.0   \n",
      "707 -8.507730e-01    0.00000       0.444675  ...    0.0    0.0    0.0    0.0   \n",
      "302  8.307536e-01    0.00000  137308.166206  ...    0.0    0.0    0.0    0.0   \n",
      "\n",
      "      V5115  V5116  V5117     V5118     V5119  V5120  \n",
      "290  0.0000    0.0    0.0  0.309587   0.00000    0.0  \n",
      "588  0.0000    0.0    0.0  0.400461   0.00000    0.0  \n",
      "359  0.0000    0.0    0.0 -0.063823   0.00000    0.0  \n",
      "204  0.0000    0.0    0.0 -0.483059   0.00000    0.0  \n",
      "107  0.0000    0.0    0.0 -0.530262   0.00000    0.0  \n",
      "..      ...    ...    ...       ...       ...    ...  \n",
      "60   0.0000    0.0    0.0  0.523651   0.00000    0.0  \n",
      "319  0.0000    0.0    0.0 -1.417367   0.00000    0.0  \n",
      "220  0.0000    0.0    0.0 -0.630091   0.00000    0.0  \n",
      "707  0.0000    0.0    0.0 -0.142124   0.00000    0.0  \n",
      "302 -0.1151    0.0    0.0  0.590876 -79.27347    0.0  \n",
      "\n",
      "[8280 rows x 5121 columns] 666     74\n",
      "675    112\n",
      "547    155\n",
      "248    195\n",
      "389    148\n",
      "      ... \n",
      "811     53\n",
      "317    114\n",
      "589    179\n",
      "819     38\n",
      "525     38\n",
      "Name: label, Length: 33120, dtype: int64 290      0\n",
      "588    156\n",
      "359     25\n",
      "204    169\n",
      "107    111\n",
      "      ... \n",
      "60     172\n",
      "319    122\n",
      "220    119\n",
      "707     68\n",
      "302     49\n",
      "Name: label, Length: 8280, dtype: int64\n",
      "(33120, 5121) (8280, 5121) (33120,) (8280,)\n"
     ]
    }
   ],
   "source": [
    "# Datapreprocessing 중 스케일링 진행 / RobuestScaling 사용\n",
    "robustScaler = RobustScaler()\n",
    "train_data_rob = pd.DataFrame(robustScaler.fit_transform(train_data), columns=train_data.columns, index = train_data.index.values)\n",
    "test_rob = pd.DataFrame(robustScaler.fit_transform(test), columns=test.columns, index = test.index.values)\n",
    "\n",
    "X_train_rob, X_test_rob, Y_train_rob, Y_test_rob = train_test_split(train_data_rob, train_label, test_size=0.2, random_state=seed)\n",
    "print(X_train_rob,X_test_rob,Y_train_rob,Y_test_rob)\n",
    "print(X_train_rob.shape,X_test_rob.shape,Y_train_rob.shape,Y_test_rob.shape)"
   ]
  },
  {
   "cell_type": "markdown",
   "metadata": {},
   "source": [
    "# SMOTE"
   ]
  },
  {
   "cell_type": "code",
   "execution_count": 55,
   "metadata": {},
   "outputs": [],
   "source": [
    "smote = SMOTE()\n",
    "train_data_sm , train_label_sm = smote.fit_sample(train_data, train_label)"
   ]
  },
  {
   "cell_type": "code",
   "execution_count": 59,
   "metadata": {},
   "outputs": [
    {
     "data": {
      "image/png": "[encoded data removed]",
      "text/plain": [
       "<Figure size 936x720 with 1 Axes>"
      ]
     },
     "metadata": {
      "needs_background": "light"
     },
     "output_type": "display_data"
    }
   ],
   "source": [
    "plt.hist(train_label_sm, bins=len(train_label_sm.unique()))\n",
    "plt.xlim(0,200)\n",
    "plt.ylim(bottom=0)\n",
    "plt.xlabel('label')\n",
    "plt.ylabel('# of label')\n",
    "plt.show()"
   ]
  },
  {
   "cell_type": "markdown",
   "metadata": {},
   "source": [
    "# RandomForest "
   ]
  },
  {
   "cell_type": "code",
   "execution_count": 63,
   "metadata": {},
   "outputs": [
    {
     "name": "stderr",
     "output_type": "stream",
     "text": [
      "[Parallel(n_jobs=-1)]: Using backend ThreadingBackend with 4 concurrent workers.\n",
      "[Parallel(n_jobs=-1)]: Done  42 tasks      | elapsed: 16.0min\n",
      "[Parallel(n_jobs=-1)]: Done 100 out of 100 | elapsed: 39.1min finished\n",
      "[Parallel(n_jobs=4)]: Using backend ThreadingBackend with 4 concurrent workers.\n",
      "[Parallel(n_jobs=4)]: Done  42 tasks      | elapsed:    2.0s\n",
      "[Parallel(n_jobs=4)]: Done 100 out of 100 | elapsed:    4.0s finished\n"
     ]
    }
   ],
   "source": [
    "model_smote_rf = RandomForestClassifier(random_state=0, verbose=1, n_jobs=-1)\n",
    "model_smote_rf.fit(train_data_sm, train_label_sm)\n",
    "pred = model_smote_rf.predict_proba(test)"
   ]
  },
  {
   "cell_type": "code",
   "execution_count": 65,
   "metadata": {},
   "outputs": [],
   "source": [
    "submission = pd.DataFrame(data=pred)\n",
    "submission.index = test.index\n",
    "submission.index.name = 'id'\n",
    "submission = submission.sort_index()\n",
    "submission = submission.groupby('id').mean()\n",
    "submission.to_csv('submission_baseline_4.csv', index=True) #제출 파일 만들기"
   ]
  },
  {
   "cell_type": "code",
   "execution_count": 69,
   "metadata": {},
   "outputs": [
    {
     "data": {
      "text/plain": [
       "['smote_rf_model.pkl']"
      ]
     },
     "execution_count": 69,
     "metadata": {},
     "output_type": "execute_result"
    }
   ],
   "source": [
    "# LeaderBoard : 17:08:09 0.8885022881\n",
    "#joblib.dump(model_smote_rf, 'smote_rf_model.pkl')"
   ]
  },
  {
   "cell_type": "code",
   "execution_count": null,
   "metadata": {},
   "outputs": [],
   "source": [
    "model_smote_rf = joblib.load('lgbmodel.pkl')"
   ]
  },
  {
   "cell_type": "markdown",
   "metadata": {},
   "source": [
    "# DNN Model "
   ]
  },
  {
   "cell_type": "code",
   "execution_count": 103,
   "metadata": {},
   "outputs": [],
   "source": [
    "encoder = LabelEncoder()\n",
    "encoder.fit(train_label)\n",
    "encoded_Y = encoder.transform(train_label)\n",
    "dummy_y = np_utils.to_categorical(encoded_Y)"
   ]
  },
  {
   "cell_type": "code",
   "execution_count": 104,
   "metadata": {},
   "outputs": [],
   "source": [
    "def make_DNN():\n",
    "    model = Sequential([\n",
    "    Dense(1024, input_dim=5121, activation='relu'),\n",
    "    Dense(512, activation='relu'),\n",
    "    Dense(256, activation='relu'),\n",
    "    Dense(198, activation='softmax')])\n",
    "    return model"
   ]
  },
  {
   "cell_type": "code",
   "execution_count": 105,
   "metadata": {},
   "outputs": [
    {
     "name": "stdout",
     "output_type": "stream",
     "text": [
      "Model: \"sequential_6\"\n",
      "_________________________________________________________________\n",
      "Layer (type)                 Output Shape              Param #   \n",
      "=================================================================\n",
      "dense_21 (Dense)             (None, 1024)              5244928   \n",
      "_________________________________________________________________\n",
      "dense_22 (Dense)             (None, 512)               524800    \n",
      "_________________________________________________________________\n",
      "dense_23 (Dense)             (None, 256)               131328    \n",
      "_________________________________________________________________\n",
      "dense_24 (Dense)             (None, 198)               50886     \n",
      "=================================================================\n",
      "Total params: 5,951,942\n",
      "Trainable params: 5,951,942\n",
      "Non-trainable params: 0\n",
      "_________________________________________________________________\n"
     ]
    }
   ],
   "source": [
    "model_DNN = make_DNN()\n",
    "model_DNN.summary()"
   ]
  },
  {
   "cell_type": "code",
   "execution_count": 108,
   "metadata": {},
   "outputs": [
    {
     "name": "stdout",
     "output_type": "stream",
     "text": [
      "Epoch 1/50\n",
      " 1720/41400 [>.............................] - ETA: 6:33 - loss: nan - accuracy: 0.0023"
     ]
    },
    {
     "ename": "KeyboardInterrupt",
     "evalue": "",
     "output_type": "error",
     "traceback": [
      "\u001b[0;31m---------------------------------------------------------------------------\u001b[0m",
      "\u001b[0;31mKeyboardInterrupt\u001b[0m                         Traceback (most recent call last)",
      "\u001b[0;32m<ipython-input-108-45b1245aed61>\u001b[0m in \u001b[0;36m<module>\u001b[0;34m\u001b[0m\n\u001b[1;32m      1\u001b[0m \u001b[0mkeras\u001b[0m\u001b[0;34m.\u001b[0m\u001b[0minitializers\u001b[0m\u001b[0;34m.\u001b[0m\u001b[0mhe_normal\u001b[0m\u001b[0;34m(\u001b[0m\u001b[0;34m)\u001b[0m\u001b[0;34m\u001b[0m\u001b[0;34m\u001b[0m\u001b[0m\n\u001b[1;32m      2\u001b[0m \u001b[0mmodel_DNN\u001b[0m\u001b[0;34m.\u001b[0m\u001b[0mcompile\u001b[0m\u001b[0;34m(\u001b[0m\u001b[0moptimizer\u001b[0m\u001b[0;34m=\u001b[0m\u001b[0;34m'adam'\u001b[0m\u001b[0;34m,\u001b[0m \u001b[0mloss\u001b[0m\u001b[0;34m=\u001b[0m\u001b[0;34m'categorical_crossentropy'\u001b[0m\u001b[0;34m,\u001b[0m \u001b[0mmetrics\u001b[0m\u001b[0;34m=\u001b[0m\u001b[0;34m[\u001b[0m\u001b[0;34m'accuracy'\u001b[0m\u001b[0;34m]\u001b[0m\u001b[0;34m)\u001b[0m\u001b[0;34m\u001b[0m\u001b[0;34m\u001b[0m\u001b[0m\n\u001b[0;32m----> 3\u001b[0;31m \u001b[0mhist\u001b[0m \u001b[0;34m=\u001b[0m \u001b[0mmodel_DNN\u001b[0m\u001b[0;34m.\u001b[0m\u001b[0mfit\u001b[0m\u001b[0;34m(\u001b[0m\u001b[0mtrain_data_rob\u001b[0m\u001b[0;34m,\u001b[0m \u001b[0mdummy_y\u001b[0m\u001b[0;34m,\u001b[0m \u001b[0mbatch_size\u001b[0m\u001b[0;34m=\u001b[0m\u001b[0;36m10\u001b[0m\u001b[0;34m,\u001b[0m \u001b[0mepochs\u001b[0m\u001b[0;34m=\u001b[0m\u001b[0;36m50\u001b[0m\u001b[0;34m)\u001b[0m\u001b[0;34m\u001b[0m\u001b[0;34m\u001b[0m\u001b[0m\n\u001b[0m",
      "\u001b[0;32m/usr/local/lib/python3.7/site-packages/keras/engine/training.py\u001b[0m in \u001b[0;36mfit\u001b[0;34m(self, x, y, batch_size, epochs, verbose, callbacks, validation_split, validation_data, shuffle, class_weight, sample_weight, initial_epoch, steps_per_epoch, validation_steps, validation_freq, max_queue_size, workers, use_multiprocessing, **kwargs)\u001b[0m\n\u001b[1;32m   1237\u001b[0m                                         \u001b[0msteps_per_epoch\u001b[0m\u001b[0;34m=\u001b[0m\u001b[0msteps_per_epoch\u001b[0m\u001b[0;34m,\u001b[0m\u001b[0;34m\u001b[0m\u001b[0;34m\u001b[0m\u001b[0m\n\u001b[1;32m   1238\u001b[0m                                         \u001b[0mvalidation_steps\u001b[0m\u001b[0;34m=\u001b[0m\u001b[0mvalidation_steps\u001b[0m\u001b[0;34m,\u001b[0m\u001b[0;34m\u001b[0m\u001b[0;34m\u001b[0m\u001b[0m\n\u001b[0;32m-> 1239\u001b[0;31m                                         validation_freq=validation_freq)\n\u001b[0m\u001b[1;32m   1240\u001b[0m \u001b[0;34m\u001b[0m\u001b[0m\n\u001b[1;32m   1241\u001b[0m     def evaluate(self,\n",
      "\u001b[0;32m/usr/local/lib/python3.7/site-packages/keras/engine/training_arrays.py\u001b[0m in \u001b[0;36mfit_loop\u001b[0;34m(model, fit_function, fit_inputs, out_labels, batch_size, epochs, verbose, callbacks, val_function, val_inputs, shuffle, initial_epoch, steps_per_epoch, validation_steps, validation_freq)\u001b[0m\n\u001b[1;32m    194\u001b[0m                     \u001b[0mins_batch\u001b[0m\u001b[0;34m[\u001b[0m\u001b[0mi\u001b[0m\u001b[0;34m]\u001b[0m \u001b[0;34m=\u001b[0m \u001b[0mins_batch\u001b[0m\u001b[0;34m[\u001b[0m\u001b[0mi\u001b[0m\u001b[0;34m]\u001b[0m\u001b[0;34m.\u001b[0m\u001b[0mtoarray\u001b[0m\u001b[0;34m(\u001b[0m\u001b[0;34m)\u001b[0m\u001b[0;34m\u001b[0m\u001b[0;34m\u001b[0m\u001b[0m\n\u001b[1;32m    195\u001b[0m \u001b[0;34m\u001b[0m\u001b[0m\n\u001b[0;32m--> 196\u001b[0;31m                 \u001b[0mouts\u001b[0m \u001b[0;34m=\u001b[0m \u001b[0mfit_function\u001b[0m\u001b[0;34m(\u001b[0m\u001b[0mins_batch\u001b[0m\u001b[0;34m)\u001b[0m\u001b[0;34m\u001b[0m\u001b[0;34m\u001b[0m\u001b[0m\n\u001b[0m\u001b[1;32m    197\u001b[0m                 \u001b[0mouts\u001b[0m \u001b[0;34m=\u001b[0m \u001b[0mto_list\u001b[0m\u001b[0;34m(\u001b[0m\u001b[0mouts\u001b[0m\u001b[0;34m)\u001b[0m\u001b[0;34m\u001b[0m\u001b[0;34m\u001b[0m\u001b[0m\n\u001b[1;32m    198\u001b[0m                 \u001b[0;32mfor\u001b[0m \u001b[0ml\u001b[0m\u001b[0;34m,\u001b[0m \u001b[0mo\u001b[0m \u001b[0;32min\u001b[0m \u001b[0mzip\u001b[0m\u001b[0;34m(\u001b[0m\u001b[0mout_labels\u001b[0m\u001b[0;34m,\u001b[0m \u001b[0mouts\u001b[0m\u001b[0;34m)\u001b[0m\u001b[0;34m:\u001b[0m\u001b[0;34m\u001b[0m\u001b[0;34m\u001b[0m\u001b[0m\n",
      "\u001b[0;32m/usr/local/lib/python3.7/site-packages/tensorflow_core/python/keras/backend.py\u001b[0m in \u001b[0;36m__call__\u001b[0;34m(self, inputs)\u001b[0m\n\u001b[1;32m   3738\u001b[0m         \u001b[0mvalue\u001b[0m \u001b[0;34m=\u001b[0m \u001b[0mmath_ops\u001b[0m\u001b[0;34m.\u001b[0m\u001b[0mcast\u001b[0m\u001b[0;34m(\u001b[0m\u001b[0mvalue\u001b[0m\u001b[0;34m,\u001b[0m \u001b[0mtensor\u001b[0m\u001b[0;34m.\u001b[0m\u001b[0mdtype\u001b[0m\u001b[0;34m)\u001b[0m\u001b[0;34m\u001b[0m\u001b[0;34m\u001b[0m\u001b[0m\n\u001b[1;32m   3739\u001b[0m       \u001b[0mconverted_inputs\u001b[0m\u001b[0;34m.\u001b[0m\u001b[0mappend\u001b[0m\u001b[0;34m(\u001b[0m\u001b[0mvalue\u001b[0m\u001b[0;34m)\u001b[0m\u001b[0;34m\u001b[0m\u001b[0;34m\u001b[0m\u001b[0m\n\u001b[0;32m-> 3740\u001b[0;31m     \u001b[0moutputs\u001b[0m \u001b[0;34m=\u001b[0m \u001b[0mself\u001b[0m\u001b[0;34m.\u001b[0m\u001b[0m_graph_fn\u001b[0m\u001b[0;34m(\u001b[0m\u001b[0;34m*\u001b[0m\u001b[0mconverted_inputs\u001b[0m\u001b[0;34m)\u001b[0m\u001b[0;34m\u001b[0m\u001b[0;34m\u001b[0m\u001b[0m\n\u001b[0m\u001b[1;32m   3741\u001b[0m \u001b[0;34m\u001b[0m\u001b[0m\n\u001b[1;32m   3742\u001b[0m     \u001b[0;31m# EagerTensor.numpy() will often make a copy to ensure memory safety.\u001b[0m\u001b[0;34m\u001b[0m\u001b[0;34m\u001b[0m\u001b[0;34m\u001b[0m\u001b[0m\n",
      "\u001b[0;32m/usr/local/lib/python3.7/site-packages/tensorflow_core/python/eager/function.py\u001b[0m in \u001b[0;36m__call__\u001b[0;34m(self, *args, **kwargs)\u001b[0m\n\u001b[1;32m   1079\u001b[0m       \u001b[0mTypeError\u001b[0m\u001b[0;34m:\u001b[0m \u001b[0mFor\u001b[0m \u001b[0minvalid\u001b[0m \u001b[0mpositional\u001b[0m\u001b[0;34m/\u001b[0m\u001b[0mkeyword\u001b[0m \u001b[0margument\u001b[0m \u001b[0mcombinations\u001b[0m\u001b[0;34m.\u001b[0m\u001b[0;34m\u001b[0m\u001b[0;34m\u001b[0m\u001b[0m\n\u001b[1;32m   1080\u001b[0m     \"\"\"\n\u001b[0;32m-> 1081\u001b[0;31m     \u001b[0;32mreturn\u001b[0m \u001b[0mself\u001b[0m\u001b[0;34m.\u001b[0m\u001b[0m_call_impl\u001b[0m\u001b[0;34m(\u001b[0m\u001b[0margs\u001b[0m\u001b[0;34m,\u001b[0m \u001b[0mkwargs\u001b[0m\u001b[0;34m)\u001b[0m\u001b[0;34m\u001b[0m\u001b[0;34m\u001b[0m\u001b[0m\n\u001b[0m\u001b[1;32m   1082\u001b[0m \u001b[0;34m\u001b[0m\u001b[0m\n\u001b[1;32m   1083\u001b[0m   \u001b[0;32mdef\u001b[0m \u001b[0m_call_impl\u001b[0m\u001b[0;34m(\u001b[0m\u001b[0mself\u001b[0m\u001b[0;34m,\u001b[0m \u001b[0margs\u001b[0m\u001b[0;34m,\u001b[0m \u001b[0mkwargs\u001b[0m\u001b[0;34m,\u001b[0m \u001b[0mcancellation_manager\u001b[0m\u001b[0;34m=\u001b[0m\u001b[0;32mNone\u001b[0m\u001b[0;34m)\u001b[0m\u001b[0;34m:\u001b[0m\u001b[0;34m\u001b[0m\u001b[0;34m\u001b[0m\u001b[0m\n",
      "\u001b[0;32m/usr/local/lib/python3.7/site-packages/tensorflow_core/python/eager/function.py\u001b[0m in \u001b[0;36m_call_impl\u001b[0;34m(self, args, kwargs, cancellation_manager)\u001b[0m\n\u001b[1;32m   1119\u001b[0m       raise TypeError(\"Keyword arguments {} unknown. Expected {}.\".format(\n\u001b[1;32m   1120\u001b[0m           list(kwargs.keys()), list(self._arg_keywords)))\n\u001b[0;32m-> 1121\u001b[0;31m     \u001b[0;32mreturn\u001b[0m \u001b[0mself\u001b[0m\u001b[0;34m.\u001b[0m\u001b[0m_call_flat\u001b[0m\u001b[0;34m(\u001b[0m\u001b[0margs\u001b[0m\u001b[0;34m,\u001b[0m \u001b[0mself\u001b[0m\u001b[0;34m.\u001b[0m\u001b[0mcaptured_inputs\u001b[0m\u001b[0;34m,\u001b[0m \u001b[0mcancellation_manager\u001b[0m\u001b[0;34m)\u001b[0m\u001b[0;34m\u001b[0m\u001b[0;34m\u001b[0m\u001b[0m\n\u001b[0m\u001b[1;32m   1122\u001b[0m \u001b[0;34m\u001b[0m\u001b[0m\n\u001b[1;32m   1123\u001b[0m   \u001b[0;32mdef\u001b[0m \u001b[0m_filtered_call\u001b[0m\u001b[0;34m(\u001b[0m\u001b[0mself\u001b[0m\u001b[0;34m,\u001b[0m \u001b[0margs\u001b[0m\u001b[0;34m,\u001b[0m \u001b[0mkwargs\u001b[0m\u001b[0;34m)\u001b[0m\u001b[0;34m:\u001b[0m\u001b[0;34m\u001b[0m\u001b[0;34m\u001b[0m\u001b[0m\n",
      "\u001b[0;32m/usr/local/lib/python3.7/site-packages/tensorflow_core/python/eager/function.py\u001b[0m in \u001b[0;36m_call_flat\u001b[0;34m(self, args, captured_inputs, cancellation_manager)\u001b[0m\n\u001b[1;32m   1222\u001b[0m     \u001b[0;32mif\u001b[0m \u001b[0mexecuting_eagerly\u001b[0m\u001b[0;34m:\u001b[0m\u001b[0;34m\u001b[0m\u001b[0;34m\u001b[0m\u001b[0m\n\u001b[1;32m   1223\u001b[0m       flat_outputs = forward_function.call(\n\u001b[0;32m-> 1224\u001b[0;31m           ctx, args, cancellation_manager=cancellation_manager)\n\u001b[0m\u001b[1;32m   1225\u001b[0m     \u001b[0;32melse\u001b[0m\u001b[0;34m:\u001b[0m\u001b[0;34m\u001b[0m\u001b[0;34m\u001b[0m\u001b[0m\n\u001b[1;32m   1226\u001b[0m       \u001b[0mgradient_name\u001b[0m \u001b[0;34m=\u001b[0m \u001b[0mself\u001b[0m\u001b[0;34m.\u001b[0m\u001b[0m_delayed_rewrite_functions\u001b[0m\u001b[0;34m.\u001b[0m\u001b[0mregister\u001b[0m\u001b[0;34m(\u001b[0m\u001b[0;34m)\u001b[0m\u001b[0;34m\u001b[0m\u001b[0;34m\u001b[0m\u001b[0m\n",
      "\u001b[0;32m/usr/local/lib/python3.7/site-packages/tensorflow_core/python/eager/function.py\u001b[0m in \u001b[0;36mcall\u001b[0;34m(self, ctx, args, cancellation_manager)\u001b[0m\n\u001b[1;32m    509\u001b[0m               \u001b[0minputs\u001b[0m\u001b[0;34m=\u001b[0m\u001b[0margs\u001b[0m\u001b[0;34m,\u001b[0m\u001b[0;34m\u001b[0m\u001b[0;34m\u001b[0m\u001b[0m\n\u001b[1;32m    510\u001b[0m               \u001b[0mattrs\u001b[0m\u001b[0;34m=\u001b[0m\u001b[0;34m(\u001b[0m\u001b[0;34m\"executor_type\"\u001b[0m\u001b[0;34m,\u001b[0m \u001b[0mexecutor_type\u001b[0m\u001b[0;34m,\u001b[0m \u001b[0;34m\"config_proto\"\u001b[0m\u001b[0;34m,\u001b[0m \u001b[0mconfig\u001b[0m\u001b[0;34m)\u001b[0m\u001b[0;34m,\u001b[0m\u001b[0;34m\u001b[0m\u001b[0;34m\u001b[0m\u001b[0m\n\u001b[0;32m--> 511\u001b[0;31m               ctx=ctx)\n\u001b[0m\u001b[1;32m    512\u001b[0m         \u001b[0;32melse\u001b[0m\u001b[0;34m:\u001b[0m\u001b[0;34m\u001b[0m\u001b[0;34m\u001b[0m\u001b[0m\n\u001b[1;32m    513\u001b[0m           outputs = execute.execute_with_cancellation(\n",
      "\u001b[0;32m/usr/local/lib/python3.7/site-packages/tensorflow_core/python/eager/execute.py\u001b[0m in \u001b[0;36mquick_execute\u001b[0;34m(op_name, num_outputs, inputs, attrs, ctx, name)\u001b[0m\n\u001b[1;32m     59\u001b[0m     tensors = pywrap_tensorflow.TFE_Py_Execute(ctx._handle, device_name,\n\u001b[1;32m     60\u001b[0m                                                \u001b[0mop_name\u001b[0m\u001b[0;34m,\u001b[0m \u001b[0minputs\u001b[0m\u001b[0;34m,\u001b[0m \u001b[0mattrs\u001b[0m\u001b[0;34m,\u001b[0m\u001b[0;34m\u001b[0m\u001b[0;34m\u001b[0m\u001b[0m\n\u001b[0;32m---> 61\u001b[0;31m                                                num_outputs)\n\u001b[0m\u001b[1;32m     62\u001b[0m   \u001b[0;32mexcept\u001b[0m \u001b[0mcore\u001b[0m\u001b[0;34m.\u001b[0m\u001b[0m_NotOkStatusException\u001b[0m \u001b[0;32mas\u001b[0m \u001b[0me\u001b[0m\u001b[0;34m:\u001b[0m\u001b[0;34m\u001b[0m\u001b[0;34m\u001b[0m\u001b[0m\n\u001b[1;32m     63\u001b[0m     \u001b[0;32mif\u001b[0m \u001b[0mname\u001b[0m \u001b[0;32mis\u001b[0m \u001b[0;32mnot\u001b[0m \u001b[0;32mNone\u001b[0m\u001b[0;34m:\u001b[0m\u001b[0;34m\u001b[0m\u001b[0;34m\u001b[0m\u001b[0m\n",
      "\u001b[0;31mKeyboardInterrupt\u001b[0m: "
     ]
    }
   ],
   "source": [
    "keras.initializers.he_normal()\n",
    "model_DNN.compile(optimizer='adam', loss='categorical_crossentropy', metrics=['accuracy'])\n",
    "hist = model_DNN.fit(train_data_rob, dummy_y, batch_size=10, epochs=50)"
   ]
  },
  {
   "cell_type": "code",
   "execution_count": null,
   "metadata": {},
   "outputs": [],
   "source": [
    "\n",
    "fig, loss_ax = plt.subplots()\n",
    "\n",
    "acc_ax = loss_ax.twinx()\n",
    "\n",
    "loss_ax.plot(hist.history['loss'], 'y', label='train loss')\n",
    "loss_ax.plot(hist.history['val_loss'], 'r', label='val loss')\n",
    "loss_ax.set_ylim([0.0, 3.0])\n",
    "\n",
    "acc_ax.plot(hist.history['accuracy'], 'b', label='train acc')\n",
    "acc_ax.plot(hist.history['val_accuracy'], 'g', label='val acc')\n",
    "acc_ax.set_ylim([0.0, 1.0])\n",
    "\n",
    "loss_ax.set_xlabel('epoch')\n",
    "loss_ax.set_ylabel('loss')\n",
    "acc_ax.set_ylabel('accuray')\n",
    "\n",
    "loss_ax.legend(loc='upper left')\n",
    "acc_ax.legend(loc='lower left')\n",
    "\n",
    "plt.show()\n"
   ]
  }
 ],
 "metadata": {
  "kernelspec": {
   "display_name": "Python 3",
   "language": "python",
   "name": "python3"
  },
  "language_info": {
   "codemirror_mode": {
    "name": "ipython",
    "version": 3
   },
   "file_extension": ".py",
   "mimetype": "text/x-python",
   "name": "python",
   "nbconvert_exporter": "python",
   "pygments_lexer": "ipython3",
   "version": "3.7.5"
  }
 },
 "nbformat": 4,
 "nbformat_minor": 4
}
