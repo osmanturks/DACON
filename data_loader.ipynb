{
 "cells": [
  {
   "cell_type": "code",
   "execution_count": 97,
   "metadata": {},
   "outputs": [],
   "source": [
    "import pandas as pd\n",
    "import numpy as np\n",
    "\n",
    "\"\"\"def eu_distance(data):\n",
    "    len_list = []\n",
    "    length = 15\n",
    "    for i in range(length-1):\n",
    "        dis = (((data.loc[i] - data.loc[i+1])**2)**0.5).sum()\n",
    "        len_list.append(dis)\n",
    "    event = len_list.index(max(len_list))+1\n",
    "    return event\n",
    "\"\"\"\n",
    "def data_loader_v2(file_name, folder='', train_label=None, nrows=60):\n",
    "    file_id = int(file_name.split('.')[0]) # file id만 불러오기\n",
    "    df = pd.read_csv(folder+file_name, index_col=0, nrows=nrows) # 파일 읽어오기\n",
    "    df = df.replace('.*', 0, regex=True).fillna(0) # 모든 문자열과 NA값을 0으로 대체, 또한 문자열이 포함된 데이터는 전체 데이터 중 train = 1, test = 2개밖에 없음\n",
    "    even_time = eu_distance(df)\n",
    "    df = df.loc[event_time:] # event_time 이후의 row들만 가지고 오기\n",
    "    \n",
    "    \n",
    "    df.index = np.repeat(file_id, len(df)) # row 인덱스를 file id로 덮어 씌우기 \n",
    "    if type(train_label) != type(None):\n",
    "        label = train_label.loc[file_id]['label'] \n",
    "        df['label'] = np.repeat(label, len(df)) #train set일 경우 라벨 추가하기\n",
    "    return df"
   ]
  },
  {
   "cell_type": "code",
   "execution_count": 98,
   "metadata": {},
   "outputs": [],
   "source": [
    "import pandas as pd\n",
    "import numpy as np\n",
    "import math"
   ]
  },
  {
   "cell_type": "code",
   "execution_count": 110,
   "metadata": {},
   "outputs": [],
   "source": [
    "df = pd.read_csv(\"train/0.csv\", index_col=0, nrows=60)\n",
    "df = df.replace('.*', 0, regex=True).fillna(0)"
   ]
  },
  {
   "cell_type": "code",
   "execution_count": 111,
   "metadata": {},
   "outputs": [
    {
     "data": {
      "text/plain": [
       "1"
      ]
     },
     "execution_count": 111,
     "metadata": {},
     "output_type": "execute_result"
    }
   ],
   "source": [
    "def eu_distance(data):\n",
    "    len_list = []\n",
    "    length = 15\n",
    "    for i in range(length-1):\n",
    "        dis = (((data.loc[i] - data.loc[i+1])**2)**0.5).sum()\n",
    "        len_list.append(dis)\n",
    "    return len_list\n",
    "len_list = eu_distance(df)\n",
    "len_list.index(max(len_list))+1"
   ]
  },
  {
   "cell_type": "code",
   "execution_count": 113,
   "metadata": {},
   "outputs": [
    {
     "data": {
      "text/plain": [
       "time\n",
       "0     85.4\n",
       "1     85.4\n",
       "2     85.4\n",
       "3     85.4\n",
       "4     85.4\n",
       "5     85.4\n",
       "6     85.4\n",
       "7     85.4\n",
       "8     85.4\n",
       "9     85.4\n",
       "10    85.4\n",
       "11    85.4\n",
       "12    85.4\n",
       "13    85.4\n",
       "14    85.4\n",
       "15    85.4\n",
       "16    85.4\n",
       "17    85.4\n",
       "18    85.4\n",
       "19    85.4\n",
       "20    85.4\n",
       "21    85.4\n",
       "22    85.4\n",
       "23    85.4\n",
       "24    85.4\n",
       "25    85.4\n",
       "26    85.4\n",
       "27    85.4\n",
       "28    85.4\n",
       "29    85.4\n",
       "30    85.4\n",
       "31    85.4\n",
       "32    85.4\n",
       "33    85.4\n",
       "34    85.4\n",
       "35    85.4\n",
       "36    85.4\n",
       "37    85.4\n",
       "38    85.4\n",
       "39    85.4\n",
       "40    85.4\n",
       "41    85.4\n",
       "42    85.4\n",
       "43    85.4\n",
       "44    85.4\n",
       "45    85.4\n",
       "46    85.4\n",
       "47    85.4\n",
       "48    85.4\n",
       "49    85.4\n",
       "50    85.4\n",
       "51    85.4\n",
       "52    85.4\n",
       "53    85.4\n",
       "54    85.4\n",
       "55    85.4\n",
       "56    85.4\n",
       "57    85.4\n",
       "58    85.4\n",
       "59    85.4\n",
       "Name: V5119, dtype: float64"
      ]
     },
     "execution_count": 113,
     "metadata": {},
     "output_type": "execute_result"
    }
   ],
   "source": [
    "df['V5119']"
   ]
  },
  {
   "cell_type": "code",
   "execution_count": null,
   "metadata": {},
   "outputs": [],
   "source": [
    "df['V0000'].quantile(0.75)"
   ]
  },
  {
   "cell_type": "code",
   "execution_count": 9,
   "metadata": {},
   "outputs": [
    {
     "ename": "KeyError",
     "evalue": "\"None of [Float64Index([30.486805514842338, 30.460030037987185,  30.47510333841466,\\n              30.455413062677778,  30.47264222621601,  30.47999618346612,\\n              30.453275195326267, 30.471123265154446, 30.474418722985845,\\n               30.48012905144803,  30.47439363133749, 30.470462503787125,\\n                30.4654268936718, 30.458532152253774,   30.4757730404892,\\n              30.469573669267845,  30.47142238070549,  30.46579482019532,\\n               30.45125741216888, 30.469449237380108,  30.49759947357241,\\n              30.491864853871732,  30.46938669843383,  30.46277186301732,\\n               30.45904666376361, 30.486311163976193,  30.44809824676045,\\n              30.484788711925784, 30.464948156209765,  30.47487450733821,\\n              30.470690831031497,  30.46958485730565,  30.45918893205626,\\n              30.466354333576163, 30.476454840965232, 30.471603898889736,\\n              30.465115290052555,  30.48270563203557,  30.47300911390069,\\n              30.457994016544127,  30.46853092373731,  30.48518969774755,\\n              30.490616663229808,  30.47579010152748,   30.4737657128399,\\n               30.45907128850019, 30.470139718074808,  30.47258366485264,\\n               30.46837728297539, 30.476655664664932, 30.475118686961583,\\n               30.47121400893712, 30.476792306605528, 30.475767687877088,\\n               30.45982381812229,    30.452837447031, 30.455268503770448,\\n               30.47705193570202,  30.46343047231709,  30.47373312174769],\\n             dtype='float64')] are in the [columns]\"",
     "output_type": "error",
     "traceback": [
      "\u001b[0;31m---------------------------------------------------------------------------\u001b[0m",
      "\u001b[0;31mKeyError\u001b[0m                                  Traceback (most recent call last)",
      "\u001b[0;32m<ipython-input-9-a1ede3e4a640>\u001b[0m in \u001b[0;36m<module>\u001b[0;34m\u001b[0m\n\u001b[1;32m      1\u001b[0m \u001b[0;32mfor\u001b[0m \u001b[0mi\u001b[0m \u001b[0;32min\u001b[0m \u001b[0mdf\u001b[0m\u001b[0;34m.\u001b[0m\u001b[0mcolumns\u001b[0m\u001b[0;34m:\u001b[0m\u001b[0;34m\u001b[0m\u001b[0;34m\u001b[0m\u001b[0m\n\u001b[0;32m----> 2\u001b[0;31m     \u001b[0mquan\u001b[0m \u001b[0;34m=\u001b[0m \u001b[0mdf\u001b[0m\u001b[0;34m[\u001b[0m\u001b[0;34m:\u001b[0m\u001b[0;34m]\u001b[0m\u001b[0;34m[\u001b[0m\u001b[0mdf\u001b[0m\u001b[0;34m[\u001b[0m\u001b[0mi\u001b[0m\u001b[0;34m]\u001b[0m\u001b[0;34m]\u001b[0m\u001b[0;34m.\u001b[0m\u001b[0mquantile\u001b[0m\u001b[0;34m(\u001b[0m\u001b[0;36m0.6\u001b[0m\u001b[0;34m)\u001b[0m\u001b[0;34m\u001b[0m\u001b[0;34m\u001b[0m\u001b[0m\n\u001b[0m\u001b[1;32m      3\u001b[0m \u001b[0;34m\u001b[0m\u001b[0m\n\u001b[1;32m      4\u001b[0m     \u001b[0mtrain_data\u001b[0m\u001b[0;34m.\u001b[0m\u001b[0mloc\u001b[0m\u001b[0;34m[\u001b[0m\u001b[0;36m567\u001b[0m\u001b[0;34m]\u001b[0m\u001b[0;34m[\u001b[0m\u001b[0;34m:\u001b[0m\u001b[0;34m]\u001b[0m\u001b[0;34m[\u001b[0m\u001b[0mtrain_data\u001b[0m\u001b[0;34m.\u001b[0m\u001b[0mloc\u001b[0m\u001b[0;34m[\u001b[0m\u001b[0;36m567\u001b[0m\u001b[0;34m]\u001b[0m\u001b[0;34m.\u001b[0m\u001b[0mcolumns\u001b[0m\u001b[0;34m[\u001b[0m\u001b[0;36m8\u001b[0m\u001b[0;34m]\u001b[0m\u001b[0;34m]\u001b[0m\u001b[0;34m.\u001b[0m\u001b[0mquantile\u001b[0m\u001b[0;34m(\u001b[0m\u001b[0;36m0.8\u001b[0m\u001b[0;34m)\u001b[0m\u001b[0;34m\u001b[0m\u001b[0;34m\u001b[0m\u001b[0m\n",
      "\u001b[0;32m~/.conda/envs/osman_dacon15/lib/python3.7/site-packages/pandas/core/frame.py\u001b[0m in \u001b[0;36m__getitem__\u001b[0;34m(self, key)\u001b[0m\n\u001b[1;32m   2999\u001b[0m             \u001b[0;32mif\u001b[0m \u001b[0mis_iterator\u001b[0m\u001b[0;34m(\u001b[0m\u001b[0mkey\u001b[0m\u001b[0;34m)\u001b[0m\u001b[0;34m:\u001b[0m\u001b[0;34m\u001b[0m\u001b[0;34m\u001b[0m\u001b[0m\n\u001b[1;32m   3000\u001b[0m                 \u001b[0mkey\u001b[0m \u001b[0;34m=\u001b[0m \u001b[0mlist\u001b[0m\u001b[0;34m(\u001b[0m\u001b[0mkey\u001b[0m\u001b[0;34m)\u001b[0m\u001b[0;34m\u001b[0m\u001b[0;34m\u001b[0m\u001b[0m\n\u001b[0;32m-> 3001\u001b[0;31m             \u001b[0mindexer\u001b[0m \u001b[0;34m=\u001b[0m \u001b[0mself\u001b[0m\u001b[0;34m.\u001b[0m\u001b[0mloc\u001b[0m\u001b[0;34m.\u001b[0m\u001b[0m_convert_to_indexer\u001b[0m\u001b[0;34m(\u001b[0m\u001b[0mkey\u001b[0m\u001b[0;34m,\u001b[0m \u001b[0maxis\u001b[0m\u001b[0;34m=\u001b[0m\u001b[0;36m1\u001b[0m\u001b[0;34m,\u001b[0m \u001b[0mraise_missing\u001b[0m\u001b[0;34m=\u001b[0m\u001b[0;32mTrue\u001b[0m\u001b[0;34m)\u001b[0m\u001b[0;34m\u001b[0m\u001b[0;34m\u001b[0m\u001b[0m\n\u001b[0m\u001b[1;32m   3002\u001b[0m \u001b[0;34m\u001b[0m\u001b[0m\n\u001b[1;32m   3003\u001b[0m         \u001b[0;31m# take() does not accept boolean indexers\u001b[0m\u001b[0;34m\u001b[0m\u001b[0;34m\u001b[0m\u001b[0;34m\u001b[0m\u001b[0m\n",
      "\u001b[0;32m~/.conda/envs/osman_dacon15/lib/python3.7/site-packages/pandas/core/indexing.py\u001b[0m in \u001b[0;36m_convert_to_indexer\u001b[0;34m(self, obj, axis, is_setter, raise_missing)\u001b[0m\n\u001b[1;32m   1283\u001b[0m                 \u001b[0;31m# When setting, missing keys are not allowed, even with .loc:\u001b[0m\u001b[0;34m\u001b[0m\u001b[0;34m\u001b[0m\u001b[0;34m\u001b[0m\u001b[0m\n\u001b[1;32m   1284\u001b[0m                 \u001b[0mkwargs\u001b[0m \u001b[0;34m=\u001b[0m \u001b[0;34m{\u001b[0m\u001b[0;34m\"raise_missing\"\u001b[0m\u001b[0;34m:\u001b[0m \u001b[0;32mTrue\u001b[0m \u001b[0;32mif\u001b[0m \u001b[0mis_setter\u001b[0m \u001b[0;32melse\u001b[0m \u001b[0mraise_missing\u001b[0m\u001b[0;34m}\u001b[0m\u001b[0;34m\u001b[0m\u001b[0;34m\u001b[0m\u001b[0m\n\u001b[0;32m-> 1285\u001b[0;31m                 \u001b[0;32mreturn\u001b[0m \u001b[0mself\u001b[0m\u001b[0;34m.\u001b[0m\u001b[0m_get_listlike_indexer\u001b[0m\u001b[0;34m(\u001b[0m\u001b[0mobj\u001b[0m\u001b[0;34m,\u001b[0m \u001b[0maxis\u001b[0m\u001b[0;34m,\u001b[0m \u001b[0;34m**\u001b[0m\u001b[0mkwargs\u001b[0m\u001b[0;34m)\u001b[0m\u001b[0;34m[\u001b[0m\u001b[0;36m1\u001b[0m\u001b[0;34m]\u001b[0m\u001b[0;34m\u001b[0m\u001b[0;34m\u001b[0m\u001b[0m\n\u001b[0m\u001b[1;32m   1286\u001b[0m         \u001b[0;32melse\u001b[0m\u001b[0;34m:\u001b[0m\u001b[0;34m\u001b[0m\u001b[0;34m\u001b[0m\u001b[0m\n\u001b[1;32m   1287\u001b[0m             \u001b[0;32mtry\u001b[0m\u001b[0;34m:\u001b[0m\u001b[0;34m\u001b[0m\u001b[0;34m\u001b[0m\u001b[0m\n",
      "\u001b[0;32m~/.conda/envs/osman_dacon15/lib/python3.7/site-packages/pandas/core/indexing.py\u001b[0m in \u001b[0;36m_get_listlike_indexer\u001b[0;34m(self, key, axis, raise_missing)\u001b[0m\n\u001b[1;32m   1090\u001b[0m \u001b[0;34m\u001b[0m\u001b[0m\n\u001b[1;32m   1091\u001b[0m         self._validate_read_indexer(\n\u001b[0;32m-> 1092\u001b[0;31m             \u001b[0mkeyarr\u001b[0m\u001b[0;34m,\u001b[0m \u001b[0mindexer\u001b[0m\u001b[0;34m,\u001b[0m \u001b[0mo\u001b[0m\u001b[0;34m.\u001b[0m\u001b[0m_get_axis_number\u001b[0m\u001b[0;34m(\u001b[0m\u001b[0maxis\u001b[0m\u001b[0;34m)\u001b[0m\u001b[0;34m,\u001b[0m \u001b[0mraise_missing\u001b[0m\u001b[0;34m=\u001b[0m\u001b[0mraise_missing\u001b[0m\u001b[0;34m\u001b[0m\u001b[0;34m\u001b[0m\u001b[0m\n\u001b[0m\u001b[1;32m   1093\u001b[0m         )\n\u001b[1;32m   1094\u001b[0m         \u001b[0;32mreturn\u001b[0m \u001b[0mkeyarr\u001b[0m\u001b[0;34m,\u001b[0m \u001b[0mindexer\u001b[0m\u001b[0;34m\u001b[0m\u001b[0;34m\u001b[0m\u001b[0m\n",
      "\u001b[0;32m~/.conda/envs/osman_dacon15/lib/python3.7/site-packages/pandas/core/indexing.py\u001b[0m in \u001b[0;36m_validate_read_indexer\u001b[0;34m(self, key, indexer, axis, raise_missing)\u001b[0m\n\u001b[1;32m   1175\u001b[0m                 raise KeyError(\n\u001b[1;32m   1176\u001b[0m                     \"None of [{key}] are in the [{axis}]\".format(\n\u001b[0;32m-> 1177\u001b[0;31m                         \u001b[0mkey\u001b[0m\u001b[0;34m=\u001b[0m\u001b[0mkey\u001b[0m\u001b[0;34m,\u001b[0m \u001b[0maxis\u001b[0m\u001b[0;34m=\u001b[0m\u001b[0mself\u001b[0m\u001b[0;34m.\u001b[0m\u001b[0mobj\u001b[0m\u001b[0;34m.\u001b[0m\u001b[0m_get_axis_name\u001b[0m\u001b[0;34m(\u001b[0m\u001b[0maxis\u001b[0m\u001b[0;34m)\u001b[0m\u001b[0;34m\u001b[0m\u001b[0;34m\u001b[0m\u001b[0m\n\u001b[0m\u001b[1;32m   1178\u001b[0m                     )\n\u001b[1;32m   1179\u001b[0m                 )\n",
      "\u001b[0;31mKeyError\u001b[0m: \"None of [Float64Index([30.486805514842338, 30.460030037987185,  30.47510333841466,\\n              30.455413062677778,  30.47264222621601,  30.47999618346612,\\n              30.453275195326267, 30.471123265154446, 30.474418722985845,\\n               30.48012905144803,  30.47439363133749, 30.470462503787125,\\n                30.4654268936718, 30.458532152253774,   30.4757730404892,\\n              30.469573669267845,  30.47142238070549,  30.46579482019532,\\n               30.45125741216888, 30.469449237380108,  30.49759947357241,\\n              30.491864853871732,  30.46938669843383,  30.46277186301732,\\n               30.45904666376361, 30.486311163976193,  30.44809824676045,\\n              30.484788711925784, 30.464948156209765,  30.47487450733821,\\n              30.470690831031497,  30.46958485730565,  30.45918893205626,\\n              30.466354333576163, 30.476454840965232, 30.471603898889736,\\n              30.465115290052555,  30.48270563203557,  30.47300911390069,\\n              30.457994016544127,  30.46853092373731,  30.48518969774755,\\n              30.490616663229808,  30.47579010152748,   30.4737657128399,\\n               30.45907128850019, 30.470139718074808,  30.47258366485264,\\n               30.46837728297539, 30.476655664664932, 30.475118686961583,\\n               30.47121400893712, 30.476792306605528, 30.475767687877088,\\n               30.45982381812229,    30.452837447031, 30.455268503770448,\\n               30.47705193570202,  30.46343047231709,  30.47373312174769],\\n             dtype='float64')] are in the [columns]\""
     ]
    }
   ],
   "source": [
    "for i in df.columns:\n",
    "    quan = df[i].quantile(0.75)\n",
    "    "
   ]
  },
  {
   "cell_type": "code",
   "execution_count": null,
   "metadata": {},
   "outputs": [],
   "source": []
  }
 ],
 "metadata": {
  "kernelspec": {
   "display_name": "Python 3",
   "language": "python",
   "name": "python3"
  },
  "language_info": {
   "codemirror_mode": {
    "name": "ipython",
    "version": 3
   },
   "file_extension": ".py",
   "mimetype": "text/x-python",
   "name": "python",
   "nbconvert_exporter": "python",
   "pygments_lexer": "ipython3",
   "version": "3.7.5"
  }
 },
 "nbformat": 4,
 "nbformat_minor": 4
}
