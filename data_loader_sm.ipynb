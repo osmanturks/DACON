{
 "cells": [
  {
   "cell_type": "code",
   "execution_count": 57,
   "metadata": {},
   "outputs": [],
   "source": [
    "import pandas as pd\n",
    "import numpy as np\n",
    "\n",
    "def eu_distance(data):\n",
    "        len_list = []\n",
    "        length = 15\n",
    "        for i in range(length-1):\n",
    "            dis = (((data.loc[i] - data.loc[i+1])**2)**0.5).sum()\n",
    "            len_list.append(dis)\n",
    "        event = (len_list.index(max(len_list)))+1\n",
    "        return event\n",
    "    \n",
    "def replace_out(df):\n",
    "        for i in df.columns:\n",
    "            q1, q3 = np.percentile(df[i],[25,75])\n",
    "            IQR = q3 - q1\n",
    "            lower = q1 - ( IQR * 1.5 )\n",
    "            upper = q3 + ( IQR * 1.5 )\n",
    "            fill_val = df[i].median()\n",
    "            df[i][ (df[i]>upper) | (df[i]<lower) ] = fill_val\n",
    "            fill_val = 0 \n",
    "        return df\n",
    "    \n",
    "def data_loader_sm(file_name, folder='', train_label=None, event_time=0, nrows=60):\n",
    "    file_id = int(file_name.split('.')[0]) # file id만 불러오기\n",
    "    df = pd.read_csv(folder+file_name, index_col=0, nrows=nrows) # 파일 읽어오기\n",
    "    df = df.replace('.*', 0, regex=True).fillna(0) # 모든 문자열과 NA값을 0으로 대체, 또한 문자열이 포함된 데이터는 전체 데이터 중 train = 1, test = 2개밖에 없음\n",
    "    event_time = eu_distance(df)\n",
    "    df = df.loc[event_time:] #event_time 이후의 row들만 가지고 오기\n",
    "    df = replace_out(df)\n",
    "    df.index = np.repeat(file_id, len(df)) # row 인덱스를 file id로 덮어 씌우기 \n",
    "    if type(train_label) != type(None):\n",
    "        label = train_label.loc[file_id]['label'] \n",
    "        df['label'] = np.repeat(label, len(df)) #train set일 경우 라벨 추가하기\n",
    "    return df"
   ]
  }
 ],
 "metadata": {
  "kernelspec": {
   "display_name": "Python 3",
   "language": "python",
   "name": "python3"
  },
  "language_info": {
   "codemirror_mode": {
    "name": "ipython",
    "version": 3
   },
   "file_extension": ".py",
   "mimetype": "text/x-python",
   "name": "python",
   "nbconvert_exporter": "python",
   "pygments_lexer": "ipython3",
   "version": "3.7.5"
  }
 },
 "nbformat": 4,
 "nbformat_minor": 4
}
